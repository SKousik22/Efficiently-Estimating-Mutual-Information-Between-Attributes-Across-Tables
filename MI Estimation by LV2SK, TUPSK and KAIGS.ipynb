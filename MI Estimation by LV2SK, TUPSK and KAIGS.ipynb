{
  "nbformat": 4,
  "nbformat_minor": 0,
  "metadata": {
    "colab": {
      "provenance": []
    },
    "kernelspec": {
      "name": "python3",
      "display_name": "Python 3"
    },
    "language_info": {
      "name": "python"
    }
  },
  "cells": [
    {
      "cell_type": "code",
      "execution_count": null,
      "metadata": {
        "id": "FEIuhTs0W6ic"
      },
      "outputs": [],
      "source": [
        "import numpy as np\n",
        "import pandas as pd"
      ]
    },
    {
      "cell_type": "code",
      "source": [
        "taxi=pd.read_csv('kolkata_taxi_data.csv')\n",
        "taxi.head()"
      ],
      "metadata": {
        "colab": {
          "base_uri": "https://localhost:8080/",
          "height": 304
        },
        "id": "l-oLkkL5XQRy",
        "outputId": "1e1148f8-d4be-458f-ff78-b71fd0ecf518"
      },
      "execution_count": null,
      "outputs": [
        {
          "output_type": "error",
          "ename": "FileNotFoundError",
          "evalue": "[Errno 2] No such file or directory: 'kolkata_taxi_data.csv'",
          "traceback": [
            "\u001b[0;31m---------------------------------------------------------------------------\u001b[0m",
            "\u001b[0;31mFileNotFoundError\u001b[0m                         Traceback (most recent call last)",
            "\u001b[0;32m<ipython-input-2-9d8a0af40157>\u001b[0m in \u001b[0;36m<cell line: 0>\u001b[0;34m()\u001b[0m\n\u001b[0;32m----> 1\u001b[0;31m \u001b[0mtaxi\u001b[0m\u001b[0;34m=\u001b[0m\u001b[0mpd\u001b[0m\u001b[0;34m.\u001b[0m\u001b[0mread_csv\u001b[0m\u001b[0;34m(\u001b[0m\u001b[0;34m'kolkata_taxi_data.csv'\u001b[0m\u001b[0;34m)\u001b[0m\u001b[0;34m\u001b[0m\u001b[0;34m\u001b[0m\u001b[0m\n\u001b[0m\u001b[1;32m      2\u001b[0m \u001b[0mtaxi\u001b[0m\u001b[0;34m.\u001b[0m\u001b[0mhead\u001b[0m\u001b[0;34m(\u001b[0m\u001b[0;34m)\u001b[0m\u001b[0;34m\u001b[0m\u001b[0;34m\u001b[0m\u001b[0m\n",
            "\u001b[0;32m/usr/local/lib/python3.11/dist-packages/pandas/io/parsers/readers.py\u001b[0m in \u001b[0;36mread_csv\u001b[0;34m(filepath_or_buffer, sep, delimiter, header, names, index_col, usecols, dtype, engine, converters, true_values, false_values, skipinitialspace, skiprows, skipfooter, nrows, na_values, keep_default_na, na_filter, verbose, skip_blank_lines, parse_dates, infer_datetime_format, keep_date_col, date_parser, date_format, dayfirst, cache_dates, iterator, chunksize, compression, thousands, decimal, lineterminator, quotechar, quoting, doublequote, escapechar, comment, encoding, encoding_errors, dialect, on_bad_lines, delim_whitespace, low_memory, memory_map, float_precision, storage_options, dtype_backend)\u001b[0m\n\u001b[1;32m   1024\u001b[0m     \u001b[0mkwds\u001b[0m\u001b[0;34m.\u001b[0m\u001b[0mupdate\u001b[0m\u001b[0;34m(\u001b[0m\u001b[0mkwds_defaults\u001b[0m\u001b[0;34m)\u001b[0m\u001b[0;34m\u001b[0m\u001b[0;34m\u001b[0m\u001b[0m\n\u001b[1;32m   1025\u001b[0m \u001b[0;34m\u001b[0m\u001b[0m\n\u001b[0;32m-> 1026\u001b[0;31m     \u001b[0;32mreturn\u001b[0m \u001b[0m_read\u001b[0m\u001b[0;34m(\u001b[0m\u001b[0mfilepath_or_buffer\u001b[0m\u001b[0;34m,\u001b[0m \u001b[0mkwds\u001b[0m\u001b[0;34m)\u001b[0m\u001b[0;34m\u001b[0m\u001b[0;34m\u001b[0m\u001b[0m\n\u001b[0m\u001b[1;32m   1027\u001b[0m \u001b[0;34m\u001b[0m\u001b[0m\n\u001b[1;32m   1028\u001b[0m \u001b[0;34m\u001b[0m\u001b[0m\n",
            "\u001b[0;32m/usr/local/lib/python3.11/dist-packages/pandas/io/parsers/readers.py\u001b[0m in \u001b[0;36m_read\u001b[0;34m(filepath_or_buffer, kwds)\u001b[0m\n\u001b[1;32m    618\u001b[0m \u001b[0;34m\u001b[0m\u001b[0m\n\u001b[1;32m    619\u001b[0m     \u001b[0;31m# Create the parser.\u001b[0m\u001b[0;34m\u001b[0m\u001b[0;34m\u001b[0m\u001b[0m\n\u001b[0;32m--> 620\u001b[0;31m     \u001b[0mparser\u001b[0m \u001b[0;34m=\u001b[0m \u001b[0mTextFileReader\u001b[0m\u001b[0;34m(\u001b[0m\u001b[0mfilepath_or_buffer\u001b[0m\u001b[0;34m,\u001b[0m \u001b[0;34m**\u001b[0m\u001b[0mkwds\u001b[0m\u001b[0;34m)\u001b[0m\u001b[0;34m\u001b[0m\u001b[0;34m\u001b[0m\u001b[0m\n\u001b[0m\u001b[1;32m    621\u001b[0m \u001b[0;34m\u001b[0m\u001b[0m\n\u001b[1;32m    622\u001b[0m     \u001b[0;32mif\u001b[0m \u001b[0mchunksize\u001b[0m \u001b[0;32mor\u001b[0m \u001b[0miterator\u001b[0m\u001b[0;34m:\u001b[0m\u001b[0;34m\u001b[0m\u001b[0;34m\u001b[0m\u001b[0m\n",
            "\u001b[0;32m/usr/local/lib/python3.11/dist-packages/pandas/io/parsers/readers.py\u001b[0m in \u001b[0;36m__init__\u001b[0;34m(self, f, engine, **kwds)\u001b[0m\n\u001b[1;32m   1618\u001b[0m \u001b[0;34m\u001b[0m\u001b[0m\n\u001b[1;32m   1619\u001b[0m         \u001b[0mself\u001b[0m\u001b[0;34m.\u001b[0m\u001b[0mhandles\u001b[0m\u001b[0;34m:\u001b[0m \u001b[0mIOHandles\u001b[0m \u001b[0;34m|\u001b[0m \u001b[0;32mNone\u001b[0m \u001b[0;34m=\u001b[0m \u001b[0;32mNone\u001b[0m\u001b[0;34m\u001b[0m\u001b[0;34m\u001b[0m\u001b[0m\n\u001b[0;32m-> 1620\u001b[0;31m         \u001b[0mself\u001b[0m\u001b[0;34m.\u001b[0m\u001b[0m_engine\u001b[0m \u001b[0;34m=\u001b[0m \u001b[0mself\u001b[0m\u001b[0;34m.\u001b[0m\u001b[0m_make_engine\u001b[0m\u001b[0;34m(\u001b[0m\u001b[0mf\u001b[0m\u001b[0;34m,\u001b[0m \u001b[0mself\u001b[0m\u001b[0;34m.\u001b[0m\u001b[0mengine\u001b[0m\u001b[0;34m)\u001b[0m\u001b[0;34m\u001b[0m\u001b[0;34m\u001b[0m\u001b[0m\n\u001b[0m\u001b[1;32m   1621\u001b[0m \u001b[0;34m\u001b[0m\u001b[0m\n\u001b[1;32m   1622\u001b[0m     \u001b[0;32mdef\u001b[0m \u001b[0mclose\u001b[0m\u001b[0;34m(\u001b[0m\u001b[0mself\u001b[0m\u001b[0;34m)\u001b[0m \u001b[0;34m->\u001b[0m \u001b[0;32mNone\u001b[0m\u001b[0;34m:\u001b[0m\u001b[0;34m\u001b[0m\u001b[0;34m\u001b[0m\u001b[0m\n",
            "\u001b[0;32m/usr/local/lib/python3.11/dist-packages/pandas/io/parsers/readers.py\u001b[0m in \u001b[0;36m_make_engine\u001b[0;34m(self, f, engine)\u001b[0m\n\u001b[1;32m   1878\u001b[0m                 \u001b[0;32mif\u001b[0m \u001b[0;34m\"b\"\u001b[0m \u001b[0;32mnot\u001b[0m \u001b[0;32min\u001b[0m \u001b[0mmode\u001b[0m\u001b[0;34m:\u001b[0m\u001b[0;34m\u001b[0m\u001b[0;34m\u001b[0m\u001b[0m\n\u001b[1;32m   1879\u001b[0m                     \u001b[0mmode\u001b[0m \u001b[0;34m+=\u001b[0m \u001b[0;34m\"b\"\u001b[0m\u001b[0;34m\u001b[0m\u001b[0;34m\u001b[0m\u001b[0m\n\u001b[0;32m-> 1880\u001b[0;31m             self.handles = get_handle(\n\u001b[0m\u001b[1;32m   1881\u001b[0m                 \u001b[0mf\u001b[0m\u001b[0;34m,\u001b[0m\u001b[0;34m\u001b[0m\u001b[0;34m\u001b[0m\u001b[0m\n\u001b[1;32m   1882\u001b[0m                 \u001b[0mmode\u001b[0m\u001b[0;34m,\u001b[0m\u001b[0;34m\u001b[0m\u001b[0;34m\u001b[0m\u001b[0m\n",
            "\u001b[0;32m/usr/local/lib/python3.11/dist-packages/pandas/io/common.py\u001b[0m in \u001b[0;36mget_handle\u001b[0;34m(path_or_buf, mode, encoding, compression, memory_map, is_text, errors, storage_options)\u001b[0m\n\u001b[1;32m    871\u001b[0m         \u001b[0;32mif\u001b[0m \u001b[0mioargs\u001b[0m\u001b[0;34m.\u001b[0m\u001b[0mencoding\u001b[0m \u001b[0;32mand\u001b[0m \u001b[0;34m\"b\"\u001b[0m \u001b[0;32mnot\u001b[0m \u001b[0;32min\u001b[0m \u001b[0mioargs\u001b[0m\u001b[0;34m.\u001b[0m\u001b[0mmode\u001b[0m\u001b[0;34m:\u001b[0m\u001b[0;34m\u001b[0m\u001b[0;34m\u001b[0m\u001b[0m\n\u001b[1;32m    872\u001b[0m             \u001b[0;31m# Encoding\u001b[0m\u001b[0;34m\u001b[0m\u001b[0;34m\u001b[0m\u001b[0m\n\u001b[0;32m--> 873\u001b[0;31m             handle = open(\n\u001b[0m\u001b[1;32m    874\u001b[0m                 \u001b[0mhandle\u001b[0m\u001b[0;34m,\u001b[0m\u001b[0;34m\u001b[0m\u001b[0;34m\u001b[0m\u001b[0m\n\u001b[1;32m    875\u001b[0m                 \u001b[0mioargs\u001b[0m\u001b[0;34m.\u001b[0m\u001b[0mmode\u001b[0m\u001b[0;34m,\u001b[0m\u001b[0;34m\u001b[0m\u001b[0;34m\u001b[0m\u001b[0m\n",
            "\u001b[0;31mFileNotFoundError\u001b[0m: [Errno 2] No such file or directory: 'kolkata_taxi_data.csv'"
          ]
        }
      ]
    },
    {
      "cell_type": "code",
      "source": [
        "demography=pd.read_csv('kolkata_demography_table.csv')\n",
        "demography.head()"
      ],
      "metadata": {
        "colab": {
          "base_uri": "https://localhost:8080/",
          "height": 206
        },
        "id": "AiocLehAYq4E",
        "outputId": "85c760c9-f715-43a7-8737-f05910a38a75"
      },
      "execution_count": null,
      "outputs": [
        {
          "output_type": "execute_result",
          "data": {
            "text/plain": [
              "   Zip Code             Location    Area Type  Population  \\\n",
              "0    700001          B.B.D. Bagh   Commercial       10000   \n",
              "1    700007            Esplanade   Commercial       12000   \n",
              "2    700013  Chittaranjan Avenue   Commercial       11000   \n",
              "3    700014          Bhowanipore  Residential       90000   \n",
              "4    700016          Park Street   Commercial       15000   \n",
              "\n",
              "   Average Monthly Earning (INR)  \n",
              "0                          80000  \n",
              "1                          82000  \n",
              "2                          81000  \n",
              "3                          65000  \n",
              "4                          85000  "
            ],
            "text/html": [
              "\n",
              "  <div id=\"df-bfb970cb-f515-4757-b00d-c5e6877152a0\" class=\"colab-df-container\">\n",
              "    <div>\n",
              "<style scoped>\n",
              "    .dataframe tbody tr th:only-of-type {\n",
              "        vertical-align: middle;\n",
              "    }\n",
              "\n",
              "    .dataframe tbody tr th {\n",
              "        vertical-align: top;\n",
              "    }\n",
              "\n",
              "    .dataframe thead th {\n",
              "        text-align: right;\n",
              "    }\n",
              "</style>\n",
              "<table border=\"1\" class=\"dataframe\">\n",
              "  <thead>\n",
              "    <tr style=\"text-align: right;\">\n",
              "      <th></th>\n",
              "      <th>Zip Code</th>\n",
              "      <th>Location</th>\n",
              "      <th>Area Type</th>\n",
              "      <th>Population</th>\n",
              "      <th>Average Monthly Earning (INR)</th>\n",
              "    </tr>\n",
              "  </thead>\n",
              "  <tbody>\n",
              "    <tr>\n",
              "      <th>0</th>\n",
              "      <td>700001</td>\n",
              "      <td>B.B.D. Bagh</td>\n",
              "      <td>Commercial</td>\n",
              "      <td>10000</td>\n",
              "      <td>80000</td>\n",
              "    </tr>\n",
              "    <tr>\n",
              "      <th>1</th>\n",
              "      <td>700007</td>\n",
              "      <td>Esplanade</td>\n",
              "      <td>Commercial</td>\n",
              "      <td>12000</td>\n",
              "      <td>82000</td>\n",
              "    </tr>\n",
              "    <tr>\n",
              "      <th>2</th>\n",
              "      <td>700013</td>\n",
              "      <td>Chittaranjan Avenue</td>\n",
              "      <td>Commercial</td>\n",
              "      <td>11000</td>\n",
              "      <td>81000</td>\n",
              "    </tr>\n",
              "    <tr>\n",
              "      <th>3</th>\n",
              "      <td>700014</td>\n",
              "      <td>Bhowanipore</td>\n",
              "      <td>Residential</td>\n",
              "      <td>90000</td>\n",
              "      <td>65000</td>\n",
              "    </tr>\n",
              "    <tr>\n",
              "      <th>4</th>\n",
              "      <td>700016</td>\n",
              "      <td>Park Street</td>\n",
              "      <td>Commercial</td>\n",
              "      <td>15000</td>\n",
              "      <td>85000</td>\n",
              "    </tr>\n",
              "  </tbody>\n",
              "</table>\n",
              "</div>\n",
              "    <div class=\"colab-df-buttons\">\n",
              "\n",
              "  <div class=\"colab-df-container\">\n",
              "    <button class=\"colab-df-convert\" onclick=\"convertToInteractive('df-bfb970cb-f515-4757-b00d-c5e6877152a0')\"\n",
              "            title=\"Convert this dataframe to an interactive table.\"\n",
              "            style=\"display:none;\">\n",
              "\n",
              "  <svg xmlns=\"http://www.w3.org/2000/svg\" height=\"24px\" viewBox=\"0 -960 960 960\">\n",
              "    <path d=\"M120-120v-720h720v720H120Zm60-500h600v-160H180v160Zm220 220h160v-160H400v160Zm0 220h160v-160H400v160ZM180-400h160v-160H180v160Zm440 0h160v-160H620v160ZM180-180h160v-160H180v160Zm440 0h160v-160H620v160Z\"/>\n",
              "  </svg>\n",
              "    </button>\n",
              "\n",
              "  <style>\n",
              "    .colab-df-container {\n",
              "      display:flex;\n",
              "      gap: 12px;\n",
              "    }\n",
              "\n",
              "    .colab-df-convert {\n",
              "      background-color: #E8F0FE;\n",
              "      border: none;\n",
              "      border-radius: 50%;\n",
              "      cursor: pointer;\n",
              "      display: none;\n",
              "      fill: #1967D2;\n",
              "      height: 32px;\n",
              "      padding: 0 0 0 0;\n",
              "      width: 32px;\n",
              "    }\n",
              "\n",
              "    .colab-df-convert:hover {\n",
              "      background-color: #E2EBFA;\n",
              "      box-shadow: 0px 1px 2px rgba(60, 64, 67, 0.3), 0px 1px 3px 1px rgba(60, 64, 67, 0.15);\n",
              "      fill: #174EA6;\n",
              "    }\n",
              "\n",
              "    .colab-df-buttons div {\n",
              "      margin-bottom: 4px;\n",
              "    }\n",
              "\n",
              "    [theme=dark] .colab-df-convert {\n",
              "      background-color: #3B4455;\n",
              "      fill: #D2E3FC;\n",
              "    }\n",
              "\n",
              "    [theme=dark] .colab-df-convert:hover {\n",
              "      background-color: #434B5C;\n",
              "      box-shadow: 0px 1px 3px 1px rgba(0, 0, 0, 0.15);\n",
              "      filter: drop-shadow(0px 1px 2px rgba(0, 0, 0, 0.3));\n",
              "      fill: #FFFFFF;\n",
              "    }\n",
              "  </style>\n",
              "\n",
              "    <script>\n",
              "      const buttonEl =\n",
              "        document.querySelector('#df-bfb970cb-f515-4757-b00d-c5e6877152a0 button.colab-df-convert');\n",
              "      buttonEl.style.display =\n",
              "        google.colab.kernel.accessAllowed ? 'block' : 'none';\n",
              "\n",
              "      async function convertToInteractive(key) {\n",
              "        const element = document.querySelector('#df-bfb970cb-f515-4757-b00d-c5e6877152a0');\n",
              "        const dataTable =\n",
              "          await google.colab.kernel.invokeFunction('convertToInteractive',\n",
              "                                                    [key], {});\n",
              "        if (!dataTable) return;\n",
              "\n",
              "        const docLinkHtml = 'Like what you see? Visit the ' +\n",
              "          '<a target=\"_blank\" href=https://colab.research.google.com/notebooks/data_table.ipynb>data table notebook</a>'\n",
              "          + ' to learn more about interactive tables.';\n",
              "        element.innerHTML = '';\n",
              "        dataTable['output_type'] = 'display_data';\n",
              "        await google.colab.output.renderOutput(dataTable, element);\n",
              "        const docLink = document.createElement('div');\n",
              "        docLink.innerHTML = docLinkHtml;\n",
              "        element.appendChild(docLink);\n",
              "      }\n",
              "    </script>\n",
              "  </div>\n",
              "\n",
              "\n",
              "    <div id=\"df-4da628ca-5802-4d93-998e-82a5e6fee8f6\">\n",
              "      <button class=\"colab-df-quickchart\" onclick=\"quickchart('df-4da628ca-5802-4d93-998e-82a5e6fee8f6')\"\n",
              "                title=\"Suggest charts\"\n",
              "                style=\"display:none;\">\n",
              "\n",
              "<svg xmlns=\"http://www.w3.org/2000/svg\" height=\"24px\"viewBox=\"0 0 24 24\"\n",
              "     width=\"24px\">\n",
              "    <g>\n",
              "        <path d=\"M19 3H5c-1.1 0-2 .9-2 2v14c0 1.1.9 2 2 2h14c1.1 0 2-.9 2-2V5c0-1.1-.9-2-2-2zM9 17H7v-7h2v7zm4 0h-2V7h2v10zm4 0h-2v-4h2v4z\"/>\n",
              "    </g>\n",
              "</svg>\n",
              "      </button>\n",
              "\n",
              "<style>\n",
              "  .colab-df-quickchart {\n",
              "      --bg-color: #E8F0FE;\n",
              "      --fill-color: #1967D2;\n",
              "      --hover-bg-color: #E2EBFA;\n",
              "      --hover-fill-color: #174EA6;\n",
              "      --disabled-fill-color: #AAA;\n",
              "      --disabled-bg-color: #DDD;\n",
              "  }\n",
              "\n",
              "  [theme=dark] .colab-df-quickchart {\n",
              "      --bg-color: #3B4455;\n",
              "      --fill-color: #D2E3FC;\n",
              "      --hover-bg-color: #434B5C;\n",
              "      --hover-fill-color: #FFFFFF;\n",
              "      --disabled-bg-color: #3B4455;\n",
              "      --disabled-fill-color: #666;\n",
              "  }\n",
              "\n",
              "  .colab-df-quickchart {\n",
              "    background-color: var(--bg-color);\n",
              "    border: none;\n",
              "    border-radius: 50%;\n",
              "    cursor: pointer;\n",
              "    display: none;\n",
              "    fill: var(--fill-color);\n",
              "    height: 32px;\n",
              "    padding: 0;\n",
              "    width: 32px;\n",
              "  }\n",
              "\n",
              "  .colab-df-quickchart:hover {\n",
              "    background-color: var(--hover-bg-color);\n",
              "    box-shadow: 0 1px 2px rgba(60, 64, 67, 0.3), 0 1px 3px 1px rgba(60, 64, 67, 0.15);\n",
              "    fill: var(--button-hover-fill-color);\n",
              "  }\n",
              "\n",
              "  .colab-df-quickchart-complete:disabled,\n",
              "  .colab-df-quickchart-complete:disabled:hover {\n",
              "    background-color: var(--disabled-bg-color);\n",
              "    fill: var(--disabled-fill-color);\n",
              "    box-shadow: none;\n",
              "  }\n",
              "\n",
              "  .colab-df-spinner {\n",
              "    border: 2px solid var(--fill-color);\n",
              "    border-color: transparent;\n",
              "    border-bottom-color: var(--fill-color);\n",
              "    animation:\n",
              "      spin 1s steps(1) infinite;\n",
              "  }\n",
              "\n",
              "  @keyframes spin {\n",
              "    0% {\n",
              "      border-color: transparent;\n",
              "      border-bottom-color: var(--fill-color);\n",
              "      border-left-color: var(--fill-color);\n",
              "    }\n",
              "    20% {\n",
              "      border-color: transparent;\n",
              "      border-left-color: var(--fill-color);\n",
              "      border-top-color: var(--fill-color);\n",
              "    }\n",
              "    30% {\n",
              "      border-color: transparent;\n",
              "      border-left-color: var(--fill-color);\n",
              "      border-top-color: var(--fill-color);\n",
              "      border-right-color: var(--fill-color);\n",
              "    }\n",
              "    40% {\n",
              "      border-color: transparent;\n",
              "      border-right-color: var(--fill-color);\n",
              "      border-top-color: var(--fill-color);\n",
              "    }\n",
              "    60% {\n",
              "      border-color: transparent;\n",
              "      border-right-color: var(--fill-color);\n",
              "    }\n",
              "    80% {\n",
              "      border-color: transparent;\n",
              "      border-right-color: var(--fill-color);\n",
              "      border-bottom-color: var(--fill-color);\n",
              "    }\n",
              "    90% {\n",
              "      border-color: transparent;\n",
              "      border-bottom-color: var(--fill-color);\n",
              "    }\n",
              "  }\n",
              "</style>\n",
              "\n",
              "      <script>\n",
              "        async function quickchart(key) {\n",
              "          const quickchartButtonEl =\n",
              "            document.querySelector('#' + key + ' button');\n",
              "          quickchartButtonEl.disabled = true;  // To prevent multiple clicks.\n",
              "          quickchartButtonEl.classList.add('colab-df-spinner');\n",
              "          try {\n",
              "            const charts = await google.colab.kernel.invokeFunction(\n",
              "                'suggestCharts', [key], {});\n",
              "          } catch (error) {\n",
              "            console.error('Error during call to suggestCharts:', error);\n",
              "          }\n",
              "          quickchartButtonEl.classList.remove('colab-df-spinner');\n",
              "          quickchartButtonEl.classList.add('colab-df-quickchart-complete');\n",
              "        }\n",
              "        (() => {\n",
              "          let quickchartButtonEl =\n",
              "            document.querySelector('#df-4da628ca-5802-4d93-998e-82a5e6fee8f6 button');\n",
              "          quickchartButtonEl.style.display =\n",
              "            google.colab.kernel.accessAllowed ? 'block' : 'none';\n",
              "        })();\n",
              "      </script>\n",
              "    </div>\n",
              "\n",
              "    </div>\n",
              "  </div>\n"
            ],
            "application/vnd.google.colaboratory.intrinsic+json": {
              "type": "dataframe",
              "variable_name": "demography",
              "summary": "{\n  \"name\": \"demography\",\n  \"rows\": 55,\n  \"fields\": [\n    {\n      \"column\": \"Zip Code\",\n      \"properties\": {\n        \"dtype\": \"number\",\n        \"std\": 38,\n        \"min\": 700001,\n        \"max\": 700141,\n        \"num_unique_values\": 55,\n        \"samples\": [\n          700086,\n          700019,\n          700088\n        ],\n        \"semantic_type\": \"\",\n        \"description\": \"\"\n      }\n    },\n    {\n      \"column\": \"Location\",\n      \"properties\": {\n        \"dtype\": \"string\",\n        \"num_unique_values\": 55,\n        \"samples\": [\n          \"Baghajatin\",\n          \"Ballygunge\",\n          \"Brace Bridge\"\n        ],\n        \"semantic_type\": \"\",\n        \"description\": \"\"\n      }\n    },\n    {\n      \"column\": \"Area Type\",\n      \"properties\": {\n        \"dtype\": \"category\",\n        \"num_unique_values\": 3,\n        \"samples\": [\n          \"Commercial\",\n          \"Residential\",\n          \"Mixed\"\n        ],\n        \"semantic_type\": \"\",\n        \"description\": \"\"\n      }\n    },\n    {\n      \"column\": \"Population\",\n      \"properties\": {\n        \"dtype\": \"number\",\n        \"std\": 24942,\n        \"min\": 10000,\n        \"max\": 95000,\n        \"num_unique_values\": 37,\n        \"samples\": [\n          67000,\n          72000,\n          15000\n        ],\n        \"semantic_type\": \"\",\n        \"description\": \"\"\n      }\n    },\n    {\n      \"column\": \"Average Monthly Earning (INR)\",\n      \"properties\": {\n        \"dtype\": \"number\",\n        \"std\": 8358,\n        \"min\": 58000,\n        \"max\": 85000,\n        \"num_unique_values\": 22,\n        \"samples\": [\n          80000,\n          61000,\n          66000\n        ],\n        \"semantic_type\": \"\",\n        \"description\": \"\"\n      }\n    }\n  ]\n}"
            }
          },
          "metadata": {},
          "execution_count": 66
        }
      ]
    },
    {
      "cell_type": "code",
      "source": [
        "joined=pd.merge(taxi[['Date','Zip Code', 'Number of Trips Booked']],demography[['Zip Code', 'Population', 'Average Monthly Earning (INR)']], on='Zip Code', how='left')\n",
        "print(joined)\n",
        "joined.head()"
      ],
      "metadata": {
        "colab": {
          "base_uri": "https://localhost:8080/",
          "height": 674
        },
        "id": "zcJSczlEYz8n",
        "outputId": "c2561f04-a720-4aef-f5da-82a5920d327f"
      },
      "execution_count": null,
      "outputs": [
        {
          "output_type": "stream",
          "name": "stdout",
          "text": [
            "             Date  Zip Code  Number of Trips Booked  Population  \\\n",
            "0      2024/01/01    700001                      22       10000   \n",
            "1      2024/01/01    700007                      29       12000   \n",
            "2      2024/01/01    700013                      19       11000   \n",
            "3      2024/01/01    700014                      17       90000   \n",
            "4      2024/01/01    700016                      15       15000   \n",
            "...           ...       ...                     ...         ...   \n",
            "19995  2024/12/29    700085                       8       63000   \n",
            "19996  2024/12/29    700086                       5       79000   \n",
            "19997  2024/12/29    700088                       4       67000   \n",
            "19998  2024/12/29    700095                       8       72000   \n",
            "19999  2024/12/29    700099                       7       68000   \n",
            "\n",
            "       Average Monthly Earning (INR)  \n",
            "0                              80000  \n",
            "1                              82000  \n",
            "2                              81000  \n",
            "3                              65000  \n",
            "4                              85000  \n",
            "...                              ...  \n",
            "19995                          59000  \n",
            "19996                          61000  \n",
            "19997                          60000  \n",
            "19998                          65000  \n",
            "19999                          61000  \n",
            "\n",
            "[20000 rows x 5 columns]\n"
          ]
        },
        {
          "output_type": "execute_result",
          "data": {
            "text/plain": [
              "         Date  Zip Code  Number of Trips Booked  Population  \\\n",
              "0  2024/01/01    700001                      22       10000   \n",
              "1  2024/01/01    700007                      29       12000   \n",
              "2  2024/01/01    700013                      19       11000   \n",
              "3  2024/01/01    700014                      17       90000   \n",
              "4  2024/01/01    700016                      15       15000   \n",
              "\n",
              "   Average Monthly Earning (INR)  \n",
              "0                          80000  \n",
              "1                          82000  \n",
              "2                          81000  \n",
              "3                          65000  \n",
              "4                          85000  "
            ],
            "text/html": [
              "\n",
              "  <div id=\"df-dd92c8a5-0b65-433b-af6c-a938583c9495\" class=\"colab-df-container\">\n",
              "    <div>\n",
              "<style scoped>\n",
              "    .dataframe tbody tr th:only-of-type {\n",
              "        vertical-align: middle;\n",
              "    }\n",
              "\n",
              "    .dataframe tbody tr th {\n",
              "        vertical-align: top;\n",
              "    }\n",
              "\n",
              "    .dataframe thead th {\n",
              "        text-align: right;\n",
              "    }\n",
              "</style>\n",
              "<table border=\"1\" class=\"dataframe\">\n",
              "  <thead>\n",
              "    <tr style=\"text-align: right;\">\n",
              "      <th></th>\n",
              "      <th>Date</th>\n",
              "      <th>Zip Code</th>\n",
              "      <th>Number of Trips Booked</th>\n",
              "      <th>Population</th>\n",
              "      <th>Average Monthly Earning (INR)</th>\n",
              "    </tr>\n",
              "  </thead>\n",
              "  <tbody>\n",
              "    <tr>\n",
              "      <th>0</th>\n",
              "      <td>2024/01/01</td>\n",
              "      <td>700001</td>\n",
              "      <td>22</td>\n",
              "      <td>10000</td>\n",
              "      <td>80000</td>\n",
              "    </tr>\n",
              "    <tr>\n",
              "      <th>1</th>\n",
              "      <td>2024/01/01</td>\n",
              "      <td>700007</td>\n",
              "      <td>29</td>\n",
              "      <td>12000</td>\n",
              "      <td>82000</td>\n",
              "    </tr>\n",
              "    <tr>\n",
              "      <th>2</th>\n",
              "      <td>2024/01/01</td>\n",
              "      <td>700013</td>\n",
              "      <td>19</td>\n",
              "      <td>11000</td>\n",
              "      <td>81000</td>\n",
              "    </tr>\n",
              "    <tr>\n",
              "      <th>3</th>\n",
              "      <td>2024/01/01</td>\n",
              "      <td>700014</td>\n",
              "      <td>17</td>\n",
              "      <td>90000</td>\n",
              "      <td>65000</td>\n",
              "    </tr>\n",
              "    <tr>\n",
              "      <th>4</th>\n",
              "      <td>2024/01/01</td>\n",
              "      <td>700016</td>\n",
              "      <td>15</td>\n",
              "      <td>15000</td>\n",
              "      <td>85000</td>\n",
              "    </tr>\n",
              "  </tbody>\n",
              "</table>\n",
              "</div>\n",
              "    <div class=\"colab-df-buttons\">\n",
              "\n",
              "  <div class=\"colab-df-container\">\n",
              "    <button class=\"colab-df-convert\" onclick=\"convertToInteractive('df-dd92c8a5-0b65-433b-af6c-a938583c9495')\"\n",
              "            title=\"Convert this dataframe to an interactive table.\"\n",
              "            style=\"display:none;\">\n",
              "\n",
              "  <svg xmlns=\"http://www.w3.org/2000/svg\" height=\"24px\" viewBox=\"0 -960 960 960\">\n",
              "    <path d=\"M120-120v-720h720v720H120Zm60-500h600v-160H180v160Zm220 220h160v-160H400v160Zm0 220h160v-160H400v160ZM180-400h160v-160H180v160Zm440 0h160v-160H620v160ZM180-180h160v-160H180v160Zm440 0h160v-160H620v160Z\"/>\n",
              "  </svg>\n",
              "    </button>\n",
              "\n",
              "  <style>\n",
              "    .colab-df-container {\n",
              "      display:flex;\n",
              "      gap: 12px;\n",
              "    }\n",
              "\n",
              "    .colab-df-convert {\n",
              "      background-color: #E8F0FE;\n",
              "      border: none;\n",
              "      border-radius: 50%;\n",
              "      cursor: pointer;\n",
              "      display: none;\n",
              "      fill: #1967D2;\n",
              "      height: 32px;\n",
              "      padding: 0 0 0 0;\n",
              "      width: 32px;\n",
              "    }\n",
              "\n",
              "    .colab-df-convert:hover {\n",
              "      background-color: #E2EBFA;\n",
              "      box-shadow: 0px 1px 2px rgba(60, 64, 67, 0.3), 0px 1px 3px 1px rgba(60, 64, 67, 0.15);\n",
              "      fill: #174EA6;\n",
              "    }\n",
              "\n",
              "    .colab-df-buttons div {\n",
              "      margin-bottom: 4px;\n",
              "    }\n",
              "\n",
              "    [theme=dark] .colab-df-convert {\n",
              "      background-color: #3B4455;\n",
              "      fill: #D2E3FC;\n",
              "    }\n",
              "\n",
              "    [theme=dark] .colab-df-convert:hover {\n",
              "      background-color: #434B5C;\n",
              "      box-shadow: 0px 1px 3px 1px rgba(0, 0, 0, 0.15);\n",
              "      filter: drop-shadow(0px 1px 2px rgba(0, 0, 0, 0.3));\n",
              "      fill: #FFFFFF;\n",
              "    }\n",
              "  </style>\n",
              "\n",
              "    <script>\n",
              "      const buttonEl =\n",
              "        document.querySelector('#df-dd92c8a5-0b65-433b-af6c-a938583c9495 button.colab-df-convert');\n",
              "      buttonEl.style.display =\n",
              "        google.colab.kernel.accessAllowed ? 'block' : 'none';\n",
              "\n",
              "      async function convertToInteractive(key) {\n",
              "        const element = document.querySelector('#df-dd92c8a5-0b65-433b-af6c-a938583c9495');\n",
              "        const dataTable =\n",
              "          await google.colab.kernel.invokeFunction('convertToInteractive',\n",
              "                                                    [key], {});\n",
              "        if (!dataTable) return;\n",
              "\n",
              "        const docLinkHtml = 'Like what you see? Visit the ' +\n",
              "          '<a target=\"_blank\" href=https://colab.research.google.com/notebooks/data_table.ipynb>data table notebook</a>'\n",
              "          + ' to learn more about interactive tables.';\n",
              "        element.innerHTML = '';\n",
              "        dataTable['output_type'] = 'display_data';\n",
              "        await google.colab.output.renderOutput(dataTable, element);\n",
              "        const docLink = document.createElement('div');\n",
              "        docLink.innerHTML = docLinkHtml;\n",
              "        element.appendChild(docLink);\n",
              "      }\n",
              "    </script>\n",
              "  </div>\n",
              "\n",
              "\n",
              "    <div id=\"df-cf3fd254-aade-488b-a703-8803e702b776\">\n",
              "      <button class=\"colab-df-quickchart\" onclick=\"quickchart('df-cf3fd254-aade-488b-a703-8803e702b776')\"\n",
              "                title=\"Suggest charts\"\n",
              "                style=\"display:none;\">\n",
              "\n",
              "<svg xmlns=\"http://www.w3.org/2000/svg\" height=\"24px\"viewBox=\"0 0 24 24\"\n",
              "     width=\"24px\">\n",
              "    <g>\n",
              "        <path d=\"M19 3H5c-1.1 0-2 .9-2 2v14c0 1.1.9 2 2 2h14c1.1 0 2-.9 2-2V5c0-1.1-.9-2-2-2zM9 17H7v-7h2v7zm4 0h-2V7h2v10zm4 0h-2v-4h2v4z\"/>\n",
              "    </g>\n",
              "</svg>\n",
              "      </button>\n",
              "\n",
              "<style>\n",
              "  .colab-df-quickchart {\n",
              "      --bg-color: #E8F0FE;\n",
              "      --fill-color: #1967D2;\n",
              "      --hover-bg-color: #E2EBFA;\n",
              "      --hover-fill-color: #174EA6;\n",
              "      --disabled-fill-color: #AAA;\n",
              "      --disabled-bg-color: #DDD;\n",
              "  }\n",
              "\n",
              "  [theme=dark] .colab-df-quickchart {\n",
              "      --bg-color: #3B4455;\n",
              "      --fill-color: #D2E3FC;\n",
              "      --hover-bg-color: #434B5C;\n",
              "      --hover-fill-color: #FFFFFF;\n",
              "      --disabled-bg-color: #3B4455;\n",
              "      --disabled-fill-color: #666;\n",
              "  }\n",
              "\n",
              "  .colab-df-quickchart {\n",
              "    background-color: var(--bg-color);\n",
              "    border: none;\n",
              "    border-radius: 50%;\n",
              "    cursor: pointer;\n",
              "    display: none;\n",
              "    fill: var(--fill-color);\n",
              "    height: 32px;\n",
              "    padding: 0;\n",
              "    width: 32px;\n",
              "  }\n",
              "\n",
              "  .colab-df-quickchart:hover {\n",
              "    background-color: var(--hover-bg-color);\n",
              "    box-shadow: 0 1px 2px rgba(60, 64, 67, 0.3), 0 1px 3px 1px rgba(60, 64, 67, 0.15);\n",
              "    fill: var(--button-hover-fill-color);\n",
              "  }\n",
              "\n",
              "  .colab-df-quickchart-complete:disabled,\n",
              "  .colab-df-quickchart-complete:disabled:hover {\n",
              "    background-color: var(--disabled-bg-color);\n",
              "    fill: var(--disabled-fill-color);\n",
              "    box-shadow: none;\n",
              "  }\n",
              "\n",
              "  .colab-df-spinner {\n",
              "    border: 2px solid var(--fill-color);\n",
              "    border-color: transparent;\n",
              "    border-bottom-color: var(--fill-color);\n",
              "    animation:\n",
              "      spin 1s steps(1) infinite;\n",
              "  }\n",
              "\n",
              "  @keyframes spin {\n",
              "    0% {\n",
              "      border-color: transparent;\n",
              "      border-bottom-color: var(--fill-color);\n",
              "      border-left-color: var(--fill-color);\n",
              "    }\n",
              "    20% {\n",
              "      border-color: transparent;\n",
              "      border-left-color: var(--fill-color);\n",
              "      border-top-color: var(--fill-color);\n",
              "    }\n",
              "    30% {\n",
              "      border-color: transparent;\n",
              "      border-left-color: var(--fill-color);\n",
              "      border-top-color: var(--fill-color);\n",
              "      border-right-color: var(--fill-color);\n",
              "    }\n",
              "    40% {\n",
              "      border-color: transparent;\n",
              "      border-right-color: var(--fill-color);\n",
              "      border-top-color: var(--fill-color);\n",
              "    }\n",
              "    60% {\n",
              "      border-color: transparent;\n",
              "      border-right-color: var(--fill-color);\n",
              "    }\n",
              "    80% {\n",
              "      border-color: transparent;\n",
              "      border-right-color: var(--fill-color);\n",
              "      border-bottom-color: var(--fill-color);\n",
              "    }\n",
              "    90% {\n",
              "      border-color: transparent;\n",
              "      border-bottom-color: var(--fill-color);\n",
              "    }\n",
              "  }\n",
              "</style>\n",
              "\n",
              "      <script>\n",
              "        async function quickchart(key) {\n",
              "          const quickchartButtonEl =\n",
              "            document.querySelector('#' + key + ' button');\n",
              "          quickchartButtonEl.disabled = true;  // To prevent multiple clicks.\n",
              "          quickchartButtonEl.classList.add('colab-df-spinner');\n",
              "          try {\n",
              "            const charts = await google.colab.kernel.invokeFunction(\n",
              "                'suggestCharts', [key], {});\n",
              "          } catch (error) {\n",
              "            console.error('Error during call to suggestCharts:', error);\n",
              "          }\n",
              "          quickchartButtonEl.classList.remove('colab-df-spinner');\n",
              "          quickchartButtonEl.classList.add('colab-df-quickchart-complete');\n",
              "        }\n",
              "        (() => {\n",
              "          let quickchartButtonEl =\n",
              "            document.querySelector('#df-cf3fd254-aade-488b-a703-8803e702b776 button');\n",
              "          quickchartButtonEl.style.display =\n",
              "            google.colab.kernel.accessAllowed ? 'block' : 'none';\n",
              "        })();\n",
              "      </script>\n",
              "    </div>\n",
              "\n",
              "    </div>\n",
              "  </div>\n"
            ],
            "application/vnd.google.colaboratory.intrinsic+json": {
              "type": "dataframe",
              "variable_name": "joined",
              "summary": "{\n  \"name\": \"joined\",\n  \"rows\": 20000,\n  \"fields\": [\n    {\n      \"column\": \"Date\",\n      \"properties\": {\n        \"dtype\": \"object\",\n        \"num_unique_values\": 364,\n        \"samples\": [\n          \"2024/07/12\",\n          \"2024/02/03\",\n          \"2024/01/16\"\n        ],\n        \"semantic_type\": \"\",\n        \"description\": \"\"\n      }\n    },\n    {\n      \"column\": \"Zip Code\",\n      \"properties\": {\n        \"dtype\": \"number\",\n        \"std\": 37,\n        \"min\": 700001,\n        \"max\": 700141,\n        \"num_unique_values\": 55,\n        \"samples\": [\n          700086,\n          700019,\n          700088\n        ],\n        \"semantic_type\": \"\",\n        \"description\": \"\"\n      }\n    },\n    {\n      \"column\": \"Number of Trips Booked\",\n      \"properties\": {\n        \"dtype\": \"number\",\n        \"std\": 7,\n        \"min\": 1,\n        \"max\": 100,\n        \"num_unique_values\": 91,\n        \"samples\": [\n          1,\n          23,\n          78\n        ],\n        \"semantic_type\": \"\",\n        \"description\": \"\"\n      }\n    },\n    {\n      \"column\": \"Population\",\n      \"properties\": {\n        \"dtype\": \"number\",\n        \"std\": 24716,\n        \"min\": 10000,\n        \"max\": 95000,\n        \"num_unique_values\": 37,\n        \"samples\": [\n          67000,\n          72000,\n          15000\n        ],\n        \"semantic_type\": \"\",\n        \"description\": \"\"\n      }\n    },\n    {\n      \"column\": \"Average Monthly Earning (INR)\",\n      \"properties\": {\n        \"dtype\": \"number\",\n        \"std\": 8282,\n        \"min\": 58000,\n        \"max\": 85000,\n        \"num_unique_values\": 22,\n        \"samples\": [\n          80000,\n          61000,\n          66000\n        ],\n        \"semantic_type\": \"\",\n        \"description\": \"\"\n      }\n    }\n  ]\n}"
            }
          },
          "metadata": {},
          "execution_count": 67
        }
      ]
    },
    {
      "cell_type": "markdown",
      "source": [
        "#### Mutual Information between 'Number of Trips Booked' and 'Population'"
      ],
      "metadata": {
        "id": "v1qMWgYZeX-W"
      }
    },
    {
      "cell_type": "code",
      "source": [
        "from sklearn.metrics import mutual_info_score\n",
        "\n",
        "X= joined['Number of Trips Booked']\n",
        "Y= joined['Population']\n",
        "\n",
        "mi_population= mutual_info_score(X,Y)\n",
        "print(mi_population)"
      ],
      "metadata": {
        "colab": {
          "base_uri": "https://localhost:8080/"
        },
        "id": "lySAoM-TaY7S",
        "outputId": "bf127697-fb9f-4775-cc14-20157abfe830"
      },
      "execution_count": null,
      "outputs": [
        {
          "output_type": "stream",
          "name": "stdout",
          "text": [
            "0.3528375402139743\n"
          ]
        }
      ]
    },
    {
      "cell_type": "markdown",
      "source": [
        "####Mutual Information between 'Number of Trips Booked' and 'Average Monthly Earning (INR)'"
      ],
      "metadata": {
        "id": "l3V4PN3PekLh"
      }
    },
    {
      "cell_type": "code",
      "source": [
        "Z= joined['Average Monthly Earning (INR)']\n",
        "\n",
        "mi_income= mutual_info_score(X,Z)\n",
        "print(mi_income)"
      ],
      "metadata": {
        "colab": {
          "base_uri": "https://localhost:8080/"
        },
        "id": "YwcPdrpwdGnu",
        "outputId": "5d24ea0e-b9d6-497a-d99b-11fe771a0bc2"
      },
      "execution_count": null,
      "outputs": [
        {
          "output_type": "stream",
          "name": "stdout",
          "text": [
            "0.3403697165877676\n"
          ]
        }
      ]
    },
    {
      "cell_type": "markdown",
      "source": [
        "##MI estimation using LV2SK"
      ],
      "metadata": {
        "id": "UIYPVzmn3MS3"
      }
    },
    {
      "cell_type": "code",
      "source": [
        "!pip install mmh3"
      ],
      "metadata": {
        "colab": {
          "base_uri": "https://localhost:8080/"
        },
        "id": "beJuXGH1eU3x",
        "outputId": "c1083007-4612-425c-fea6-6f7b8fced252"
      },
      "execution_count": null,
      "outputs": [
        {
          "output_type": "stream",
          "name": "stdout",
          "text": [
            "Requirement already satisfied: mmh3 in /usr/local/lib/python3.11/dist-packages (5.1.0)\n"
          ]
        }
      ]
    },
    {
      "cell_type": "code",
      "source": [
        "import mmh3\n",
        "\n",
        "def mmh3_hash(x, seed=0):\n",
        "    return mmh3.hash(str(x), seed) & 0xffffffff\n",
        "\n",
        "sketch_size=1000\n",
        "\n",
        "def lv2sk_sampling(T, A, keyT, keyA, desT, desA ,sketch_size=500, h=mmh3_hash):\n",
        "  # Get top n keys using the hash function\n",
        "  common_keys = set(T[keyT]).intersection(set(A[keyA]))\n",
        "  sorted_keys = sorted(common_keys, key=h)[:sketch_size]\n",
        "\n",
        "  # Select rows from each table using selected keys\n",
        "  T_sketch = T[T[keyT].isin(sorted_keys)]\n",
        "  A_sketch = A[A[keyA].isin(sorted_keys)]\n",
        "\n",
        "  # Manually align rows by key without setting index\n",
        "  result = []\n",
        "  for key in sorted_keys:\n",
        "      x_rows = T_sketch[T_sketch[keyT] == key][desT]\n",
        "      y_rows = A_sketch[A_sketch[keyA] == key][desA]\n",
        "      min_len = min(len(x_rows), len(y_rows))\n",
        "      result.extend(zip(x_rows.iloc[:min_len], y_rows.iloc[:min_len]))\n",
        "\n",
        "  return pd.DataFrame(result, columns=[desT, desA])\n",
        "\n"
      ],
      "metadata": {
        "id": "Wwdui2_wgJeP"
      },
      "execution_count": null,
      "outputs": []
    },
    {
      "cell_type": "code",
      "source": [
        "lv2sk_population= lv2sk_sampling(taxi, demography, 'Zip Code', 'Zip Code','Number of Trips Booked', 'Population', sketch_size)\n",
        "print(lv2sk_population)"
      ],
      "metadata": {
        "colab": {
          "base_uri": "https://localhost:8080/"
        },
        "id": "B3N3CH_wj7uC",
        "outputId": "ca35473c-a252-4454-b0bc-bfda9609988a"
      },
      "execution_count": null,
      "outputs": [
        {
          "output_type": "stream",
          "name": "stdout",
          "text": [
            "    Number of Trips Booked  Population\n",
            "0                       11       62000\n",
            "1                       27       14000\n",
            "2                       27       13000\n",
            "3                       11       68000\n",
            "4                       12       60000\n",
            "5                       19       72000\n",
            "6                       13       67000\n",
            "7                       22       12000\n",
            "8                        6       72000\n",
            "9                       17       76000\n",
            "10                      17       85000\n",
            "11                      13       67000\n",
            "12                      19       11000\n",
            "13                      25       13000\n",
            "14                       7       73000\n",
            "15                      11       74000\n",
            "16                      12       70000\n",
            "17                      17       90000\n",
            "18                      15       78000\n",
            "19                      10       82000\n",
            "20                      19       74000\n",
            "21                      14       63000\n",
            "22                       8       60000\n",
            "23                      17       65000\n",
            "24                      21       50000\n",
            "25                      16       53000\n",
            "26                      12       64000\n",
            "27                      15       69000\n",
            "28                      29       12000\n",
            "29                      11       77000\n",
            "30                      13       70000\n",
            "31                      11       52000\n",
            "32                      27       10000\n",
            "33                       6       72000\n",
            "34                       8       71000\n",
            "35                      26       11000\n",
            "36                      14       60000\n",
            "37                      12       67000\n",
            "38                      22       10000\n",
            "39                      26       58000\n",
            "40                      15       88000\n",
            "41                      16       55000\n",
            "42                      11       68000\n",
            "43                      12       95000\n",
            "44                      17       69000\n",
            "45                      17       56000\n",
            "46                      15       80000\n",
            "47                      10       76000\n",
            "48                      17       71000\n",
            "49                      15       15000\n",
            "50                      21       10000\n",
            "51                      13       65000\n",
            "52                       7       79000\n",
            "53                       8       75000\n",
            "54                      16       54000\n"
          ]
        }
      ]
    },
    {
      "cell_type": "code",
      "source": [
        "X_lv2sk_population= lv2sk_population['Number of Trips Booked']\n",
        "Y_lv2sk_population= lv2sk_population['Population']\n",
        "\n",
        "mi_population_lv2sk= mutual_info_score(X_lv2sk_population,Y_lv2sk_population)\n",
        "print(mi_population_lv2sk)"
      ],
      "metadata": {
        "colab": {
          "base_uri": "https://localhost:8080/"
        },
        "id": "BjiKs4crkEob",
        "outputId": "147c14ad-0956-446c-be67-c4e0a1b39628"
      },
      "execution_count": null,
      "outputs": [
        {
          "output_type": "stream",
          "name": "stdout",
          "text": [
            "2.338491359572667\n"
          ]
        }
      ]
    },
    {
      "cell_type": "code",
      "source": [
        "lv2sk_income= lv2sk_sampling(taxi, demography, 'Zip Code', 'Zip Code','Number of Trips Booked', 'Average Monthly Earning (INR)', sketch_size=500)\n",
        "print(lv2sk_income)"
      ],
      "metadata": {
        "colab": {
          "base_uri": "https://localhost:8080/"
        },
        "id": "FEnHn6EZzcpP",
        "outputId": "b15fb585-3ca2-4e7f-b600-9c0b7c70ef5b"
      },
      "execution_count": null,
      "outputs": [
        {
          "output_type": "stream",
          "name": "stdout",
          "text": [
            "    Number of Trips Booked  Average Monthly Earning (INR)\n",
            "0                       11                          59000\n",
            "1                       27                          84000\n",
            "2                       27                          83000\n",
            "3                       11                          61000\n",
            "4                       12                          58000\n",
            "5                       19                          61000\n",
            "6                       13                          61000\n",
            "7                       22                          82000\n",
            "8                        6                          65000\n",
            "9                       17                          60000\n",
            "10                      17                          68000\n",
            "11                      13                          61000\n",
            "12                      19                          81000\n",
            "13                      25                          83000\n",
            "14                       7                          62000\n",
            "15                      11                          62000\n",
            "16                      12                          60000\n",
            "17                      17                          65000\n",
            "18                      15                          67000\n",
            "19                      10                          65000\n",
            "20                      19                          62000\n",
            "21                      14                          59000\n",
            "22                       8                          59000\n",
            "23                      17                          63000\n",
            "24                      21                          72000\n",
            "25                      16                          70000\n",
            "26                      12                          60000\n",
            "27                      15                          60000\n",
            "28                      29                          82000\n",
            "29                      11                          61000\n",
            "30                      13                          62000\n",
            "31                      11                          73000\n",
            "32                      27                          80000\n",
            "33                       6                          62000\n",
            "34                       8                          61000\n",
            "35                      26                          81000\n",
            "36                      14                          70000\n",
            "37                      12                          60000\n",
            "38                      22                          80000\n",
            "39                      26                          70000\n",
            "40                      15                          66000\n",
            "41                      16                          71000\n",
            "42                      11                          60000\n",
            "43                      12                          62000\n",
            "44                      17                          60000\n",
            "45                      17                          69000\n",
            "46                      15                          64000\n",
            "47                      10                          63000\n",
            "48                      17                          61000\n",
            "49                      15                          85000\n",
            "50                      21                          80000\n",
            "51                      13                          59000\n",
            "52                       7                          61000\n",
            "53                       8                          69000\n",
            "54                      16                          71000\n"
          ]
        }
      ]
    },
    {
      "cell_type": "code",
      "source": [
        "X_lv2sk_income= lv2sk_income['Number of Trips Booked']\n",
        "Y_lv2sk_income= lv2sk_income['Average Monthly Earning (INR)']\n",
        "\n",
        "mi_income_lv2sk= mutual_info_score(X_lv2sk_income,Y_lv2sk_income)\n",
        "print(mi_income_lv2sk)"
      ],
      "metadata": {
        "colab": {
          "base_uri": "https://localhost:8080/"
        },
        "id": "Xy2UScwQ0EO2",
        "outputId": "31ddcbe8-8ffc-4ae9-edc6-4368951993ea"
      },
      "execution_count": null,
      "outputs": [
        {
          "output_type": "stream",
          "name": "stdout",
          "text": [
            "1.7379551395896555\n"
          ]
        }
      ]
    },
    {
      "cell_type": "markdown",
      "source": [
        "##MI Estimation using TUPSK"
      ],
      "metadata": {
        "id": "8v1qhW9k8Jog"
      }
    },
    {
      "cell_type": "code",
      "source": [
        "def tupsk_sampling(T, A, keyT, keyA, desT, desA ,sketch_size=500, h=mmh3_hash):\n",
        "    T_temp = T.copy()\n",
        "    A_temp = A.copy()\n",
        "\n",
        "    T_temp['row_id'] = T_temp.groupby(keyT).cumcount()\n",
        "    A_temp['row_id'] = A_temp.groupby(keyA).cumcount()\n",
        "\n",
        "    T_temp['hash'] = T_temp.apply(lambda r: h((r[keyT], r['row_id'])), axis=1)\n",
        "    A_temp['hash'] = A_temp.apply(lambda r: h((r[keyA], r['row_id'])), axis=1)\n",
        "\n",
        "    T_temp = T_temp.sort_values('hash').head(sketch_size)\n",
        "    A_temp = A_temp.sort_values('hash').head(sketch_size)\n",
        "\n",
        "    # Merge on row index for final pairing (not join on key)\n",
        "    min_len = min(len(T_temp), len(A_temp))\n",
        "    return pd.DataFrame({\n",
        "        desT: T_temp[desT].iloc[:min_len].values,\n",
        "        desA: A_temp[desA].iloc[:min_len].values\n",
        "    })"
      ],
      "metadata": {
        "id": "wLKoZQfH2cWP"
      },
      "execution_count": null,
      "outputs": []
    },
    {
      "cell_type": "code",
      "source": [
        "tupsk_population=tupsk_sampling(taxi, demography, 'Zip Code', 'Zip Code','Number of Trips Booked', 'Population', sketch_size)\n",
        "print(tupsk_population)"
      ],
      "metadata": {
        "colab": {
          "base_uri": "https://localhost:8080/"
        },
        "id": "Rd_8g3nj6Sjb",
        "outputId": "3384a6dd-0fc4-4d2d-cf77-3bf4368507be"
      },
      "execution_count": null,
      "outputs": [
        {
          "output_type": "stream",
          "name": "stdout",
          "text": [
            "    Number of Trips Booked  Population\n",
            "0                       10       54000\n",
            "1                       12       69000\n",
            "2                       15       60000\n",
            "3                       10       56000\n",
            "4                       14       60000\n",
            "5                       20       78000\n",
            "6                       27       71000\n",
            "7                       33       70000\n",
            "8                       22       75000\n",
            "9                        8       10000\n",
            "10                       9       52000\n",
            "11                      34       70000\n",
            "12                      33       74000\n",
            "13                      17       63000\n",
            "14                      13       10000\n",
            "15                      13       14000\n",
            "16                       9       72000\n",
            "17                      17       12000\n",
            "18                      22       95000\n",
            "19                       8       60000\n",
            "20                      15       73000\n",
            "21                      28       76000\n",
            "22                      12       72000\n",
            "23                      14       68000\n",
            "24                      22       65000\n",
            "25                      14       67000\n",
            "26                      14       82000\n",
            "27                      14       64000\n",
            "28                      11       13000\n",
            "29                      13       80000\n",
            "30                      12       67000\n",
            "31                      23       71000\n",
            "32                      14       53000\n",
            "33                      24       68000\n",
            "34                      13       13000\n",
            "35                       8       77000\n",
            "36                      11       12000\n",
            "37                       7       65000\n",
            "38                      13       55000\n",
            "39                      12       11000\n",
            "40                       9       15000\n",
            "41                      10       69000\n",
            "42                      11       88000\n",
            "43                      13       50000\n",
            "44                      16       90000\n",
            "45                       7       62000\n",
            "46                       8       74000\n",
            "47                       8       72000\n",
            "48                      30       10000\n",
            "49                      10       85000\n",
            "50                       7       76000\n",
            "51                      11       11000\n",
            "52                       9       67000\n",
            "53                      12       79000\n",
            "54                      24       58000\n"
          ]
        }
      ]
    },
    {
      "cell_type": "code",
      "source": [
        "X_tupsk_population= tupsk_population['Number of Trips Booked']\n",
        "Y_tupsk_population= tupsk_population['Population']\n",
        "\n",
        "mi_population_tupsk= mutual_info_score(X_lv2sk_population,Y_lv2sk_population)\n",
        "print(mi_population_tupsk)"
      ],
      "metadata": {
        "colab": {
          "base_uri": "https://localhost:8080/"
        },
        "id": "OfV4dI2z62BH",
        "outputId": "43e5906c-8b4c-47ad-9b42-d42c687c8706"
      },
      "execution_count": null,
      "outputs": [
        {
          "output_type": "stream",
          "name": "stdout",
          "text": [
            "2.338491359572667\n"
          ]
        }
      ]
    },
    {
      "cell_type": "code",
      "source": [
        "tupsk_income=tupsk_sampling(taxi, demography, 'Zip Code', 'Zip Code','Number of Trips Booked', 'Average Monthly Earning (INR)', sketch_size=500)\n",
        "print(tupsk_income)"
      ],
      "metadata": {
        "colab": {
          "base_uri": "https://localhost:8080/"
        },
        "id": "1mPWElJz7Hu4",
        "outputId": "9866d16f-05ab-4a44-8bbc-ff51843d8597"
      },
      "execution_count": null,
      "outputs": [
        {
          "output_type": "stream",
          "name": "stdout",
          "text": [
            "    Number of Trips Booked  Average Monthly Earning (INR)\n",
            "0                       10                          71000\n",
            "1                       12                          60000\n",
            "2                       15                          70000\n",
            "3                       10                          69000\n",
            "4                       14                          58000\n",
            "5                       20                          67000\n",
            "6                       27                          61000\n",
            "7                       33                          60000\n",
            "8                       22                          69000\n",
            "9                        8                          80000\n",
            "10                       9                          73000\n",
            "11                      34                          62000\n",
            "12                      33                          62000\n",
            "13                      17                          59000\n",
            "14                      13                          80000\n",
            "15                      13                          84000\n",
            "16                       9                          65000\n",
            "17                      17                          82000\n",
            "18                      22                          62000\n",
            "19                       8                          59000\n",
            "20                      15                          62000\n",
            "21                      28                          63000\n",
            "22                      12                          62000\n",
            "23                      14                          60000\n",
            "24                      22                          59000\n",
            "25                      14                          61000\n",
            "26                      14                          65000\n",
            "27                      14                          60000\n",
            "28                      11                          83000\n",
            "29                      13                          64000\n",
            "30                      12                          60000\n",
            "31                      23                          61000\n",
            "32                      14                          70000\n",
            "33                      24                          61000\n",
            "34                      13                          83000\n",
            "35                       8                          61000\n",
            "36                      11                          82000\n",
            "37                       7                          63000\n",
            "38                      13                          71000\n",
            "39                      12                          81000\n",
            "40                       9                          85000\n",
            "41                      10                          60000\n",
            "42                      11                          66000\n",
            "43                      13                          72000\n",
            "44                      16                          65000\n",
            "45                       7                          59000\n",
            "46                       8                          62000\n",
            "47                       8                          61000\n",
            "48                      30                          80000\n",
            "49                      10                          68000\n",
            "50                       7                          60000\n",
            "51                      11                          81000\n",
            "52                       9                          61000\n",
            "53                      12                          61000\n",
            "54                      24                          70000\n"
          ]
        }
      ]
    },
    {
      "cell_type": "code",
      "source": [
        "X_tupsk_income= tupsk_income['Number of Trips Booked']\n",
        "Y_tupsk_income= tupsk_income['Average Monthly Earning (INR)']\n",
        "\n",
        "mi_income_tupsk= mutual_info_score(X_tupsk_income,Y_tupsk_income)\n",
        "print(mi_income_tupsk)"
      ],
      "metadata": {
        "colab": {
          "base_uri": "https://localhost:8080/"
        },
        "id": "6GnNgly17bPp",
        "outputId": "b6f6d7e5-99c1-424a-ca11-dfc85ba499a3"
      },
      "execution_count": null,
      "outputs": [
        {
          "output_type": "stream",
          "name": "stdout",
          "text": [
            "1.6988439564497253\n"
          ]
        }
      ]
    },
    {
      "cell_type": "markdown",
      "source": [
        "##MI Estimation using TUPSK"
      ],
      "metadata": {
        "id": "HDnBH_RC8QZw"
      }
    },
    {
      "cell_type": "markdown",
      "source": [
        "####Tuning B, alpha and eps"
      ],
      "metadata": {
        "id": "07gABrBwDFN3"
      }
    },
    {
      "cell_type": "code",
      "source": [
        "B=10 #Bootstrap Size\n",
        "alpha=3.0  #Information limit\n",
        "eps=1e-4  #Tolernce"
      ],
      "metadata": {
        "id": "IxOlnV13BR0L"
      },
      "execution_count": null,
      "outputs": []
    },
    {
      "cell_type": "code",
      "source": [
        "def kaigs_sampling(T, A, keyT, keyA, desT, desA, B=5, alpha=2.0, eps=1e-6, seed=0):\n",
        "    np.random.seed(seed)\n",
        "    grouped_T = T.groupby(keyT)\n",
        "    grouped_A = A.groupby(keyA)\n",
        "\n",
        "    result = []\n",
        "    common_keys = set(grouped_T.groups).intersection(set(grouped_A.groups))\n",
        "\n",
        "    for key in common_keys:\n",
        "        group_T = grouped_T.get_group(key)\n",
        "        group_A = grouped_A.get_group(key)\n",
        "\n",
        "        if len(group_T) == 0 or len(group_A) == 0:\n",
        "            continue\n",
        "\n",
        "        S_boot = group_A.sample(n=min(B, len(group_A)), replace=True)\n",
        "        dist_before = S_boot[desA].value_counts(normalize=True)\n",
        "        H_before = -np.sum([p * np.log(p + eps) for p in dist_before])\n",
        "\n",
        "        deltas = []\n",
        "        for i, row in group_A.iterrows():\n",
        "            with_row = pd.concat([S_boot, row.to_frame().T])\n",
        "            dist_after = with_row[desA].value_counts(normalize=True)\n",
        "            H_after = -np.sum([p * np.log(p + eps) for p in dist_after])\n",
        "            delta = H_before - H_after\n",
        "            deltas.append((i, delta))\n",
        "\n",
        "        total_delta = sum(delta + eps for _, delta in deltas)\n",
        "        weights = [(delta + eps) / total_delta for _, delta in deltas]\n",
        "\n",
        "        for (i, delta), w in zip(deltas, weights):\n",
        "            pr = min(1.0, alpha * w * np.sqrt(len(group_A) / len(A)))\n",
        "            if np.random.rand() < pr:\n",
        "                y = group_A.loc[i, desA]\n",
        "                x_vals = group_T[desT].values\n",
        "                for x in x_vals:\n",
        "                    result.append((x, y))\n",
        "\n",
        "    return pd.DataFrame(result, columns=['X', 'Y'])"
      ],
      "metadata": {
        "id": "y3-_oGeK77Mu"
      },
      "execution_count": null,
      "outputs": []
    },
    {
      "cell_type": "code",
      "source": [
        "kaigs_population=kaigs_sampling(taxi, demography, 'Zip Code', 'Zip Code','Number of Trips Booked', 'Population', B, alpha, eps)\n",
        "print(kaigs_population)"
      ],
      "metadata": {
        "colab": {
          "base_uri": "https://localhost:8080/"
        },
        "id": "B8W7nxkKBnPV",
        "outputId": "36b8bad4-da79-4e7d-e5d1-d911cc7752fa"
      },
      "execution_count": null,
      "outputs": [
        {
          "output_type": "stream",
          "name": "stdout",
          "text": [
            "       X      Y\n",
            "0     11  62000\n",
            "1     15  62000\n",
            "2     13  62000\n",
            "3     20  62000\n",
            "4     20  62000\n",
            "...   ..    ...\n",
            "5813  10  80000\n",
            "5814  17  80000\n",
            "5815  12  80000\n",
            "5816  13  80000\n",
            "5817   2  80000\n",
            "\n",
            "[5818 rows x 2 columns]\n"
          ]
        }
      ]
    },
    {
      "cell_type": "code",
      "source": [
        "X_kaigs_population= kaigs_population['X']\n",
        "Y_kaigs_population= kaigs_population['Y']\n",
        "\n",
        "mi_population_kaigs= mutual_info_score(X_kaigs_population,Y_kaigs_population)\n",
        "print(mi_population_kaigs)"
      ],
      "metadata": {
        "colab": {
          "base_uri": "https://localhost:8080/"
        },
        "id": "duMkU45VByHY",
        "outputId": "3247a6da-9b6b-4562-9387-6ebd4c2a520d"
      },
      "execution_count": null,
      "outputs": [
        {
          "output_type": "stream",
          "name": "stdout",
          "text": [
            "0.3433563550759072\n"
          ]
        }
      ]
    },
    {
      "cell_type": "code",
      "source": [
        "kaigs_income=kaigs_sampling(taxi, demography, 'Zip Code', 'Zip Code','Number of Trips Booked', 'Average Monthly Earning (INR)', B, alpha, eps)\n",
        "print(kaigs_income)"
      ],
      "metadata": {
        "colab": {
          "base_uri": "https://localhost:8080/"
        },
        "id": "YTIzCEZHCqtE",
        "outputId": "dad25bbb-c802-4b48-a196-80c990240169"
      },
      "execution_count": null,
      "outputs": [
        {
          "output_type": "stream",
          "name": "stdout",
          "text": [
            "       X      Y\n",
            "0     11  59000\n",
            "1     15  59000\n",
            "2     13  59000\n",
            "3     20  59000\n",
            "4     20  59000\n",
            "...   ..    ...\n",
            "5813  10  64000\n",
            "5814  17  64000\n",
            "5815  12  64000\n",
            "5816  13  64000\n",
            "5817   2  64000\n",
            "\n",
            "[5818 rows x 2 columns]\n"
          ]
        }
      ]
    },
    {
      "cell_type": "code",
      "source": [
        "X_kaigs_income= kaigs_income['X']\n",
        "Y_kaigs_income= kaigs_income['Y']\n",
        "\n",
        "mi_income_kaigs= mutual_info_score(X_kaigs_income,Y_kaigs_income)\n",
        "print(mi_income_kaigs)"
      ],
      "metadata": {
        "colab": {
          "base_uri": "https://localhost:8080/"
        },
        "id": "yqtsIezlEW9H",
        "outputId": "578db4d0-5c33-4301-b168-b49bc0f78edb"
      },
      "execution_count": null,
      "outputs": [
        {
          "output_type": "stream",
          "name": "stdout",
          "text": [
            "0.32965937576019655\n"
          ]
        }
      ]
    },
    {
      "cell_type": "markdown",
      "source": [
        "##Plotting"
      ],
      "metadata": {
        "id": "rGCuTGuAFKS1"
      }
    },
    {
      "cell_type": "markdown",
      "source": [
        "####MI using different sampling methods"
      ],
      "metadata": {
        "id": "0TI6sFr5NMvg"
      }
    },
    {
      "cell_type": "code",
      "source": [
        "import matplotlib.pyplot as plt\n",
        "\n",
        "# Your values\n",
        "values_population = [mi_population, mi_population_lv2sk, mi_population_tupsk, mi_population_kaigs]\n",
        "labels = ['True MI', 'MI with LV2SK', 'MI with TUPSK', 'MI with KAIGS']\n",
        "colors = ['red', 'green', 'skyblue', 'orange']\n",
        "\n",
        "# Create a bar chart\n",
        "plt.bar(labels, values_population, color=colors, edgecolor='black')\n",
        "\n",
        "# Add title and labels\n",
        "plt.title('Bar Chart for Populaton')\n",
        "plt.xlabel('Variables')\n",
        "plt.ylabel('Values')\n",
        "\n",
        "# Show the plot\n",
        "plt.show()\n"
      ],
      "metadata": {
        "colab": {
          "base_uri": "https://localhost:8080/",
          "height": 472
        },
        "id": "6vrexYIMEyNA",
        "outputId": "af7d83ad-b0b4-4a8f-d124-62de296039e2"
      },
      "execution_count": null,
      "outputs": [
        {
          "output_type": "display_data",
          "data": {
            "text/plain": [
              "<Figure size 640x480 with 1 Axes>"
            ],
            "image/png": "[encoded data removed]"
          },
          "metadata": {}
        }
      ]
    },
    {
      "cell_type": "code",
      "source": [
        "import matplotlib.pyplot as plt\n",
        "\n",
        "# Your values\n",
        "values_income = [mi_income, mi_income_lv2sk, mi_income_tupsk, mi_income_kaigs]\n",
        "labels = ['True MI', 'MI with LV2SK', 'MI with TUPSK', 'MI with KAIGS']\n",
        "colors = ['red', 'green', 'skyblue', 'orange']\n",
        "\n",
        "# Create a bar chart\n",
        "plt.bar(labels, values_income, color = colors, edgecolor='black')\n",
        "\n",
        "# Add title and labels\n",
        "plt.title('Bar Chart for Income')\n",
        "plt.xlabel('Variables')\n",
        "plt.ylabel('Values')\n",
        "\n",
        "# Show the plot\n",
        "plt.show()\n"
      ],
      "metadata": {
        "colab": {
          "base_uri": "https://localhost:8080/",
          "height": 472
        },
        "id": "fXDYskXRFHWl",
        "outputId": "e641d1df-b7f7-4687-8e0f-d4200156471c"
      },
      "execution_count": null,
      "outputs": [
        {
          "output_type": "display_data",
          "data": {
            "text/plain": [
              "<Figure size 640x480 with 1 Axes>"
            ],
            "image/png": "[encoded data removed]"
          },
          "metadata": {}
        }
      ]
    },
    {
      "cell_type": "markdown",
      "source": [
        "####Sketch Size comparison"
      ],
      "metadata": {
        "id": "ikxeDDcgNrxT"
      }
    },
    {
      "cell_type": "code",
      "source": [
        "print(f\"Size of the joined table: {len(joined)}\")\n",
        "print(\"Sketch Sizes for Population>\")\n",
        "print(f\"LV2SK: {len(lv2sk_population)}\")\n",
        "print(f\"TUPSK: {len(tupsk_population)}\")\n",
        "print(f\"KAIGS: {len(kaigs_population)}\")"
      ],
      "metadata": {
        "colab": {
          "base_uri": "https://localhost:8080/"
        },
        "id": "pa_v9ORtLWGl",
        "outputId": "da63f60f-00af-48e6-ee03-875d7579b43b"
      },
      "execution_count": null,
      "outputs": [
        {
          "output_type": "stream",
          "name": "stdout",
          "text": [
            "Size of the joined table: 20000\n",
            "Sketch Sizes for Population>\n",
            "LV2SK: 55\n",
            "TUPSK: 55\n",
            "KAIGS: 5818\n"
          ]
        }
      ]
    },
    {
      "cell_type": "code",
      "source": [
        "print(\"Sketch Sizes for Income>\")\n",
        "print(f\"LV2SK: {len(lv2sk_income)}\")\n",
        "print(f\"TUPSK: {len(tupsk_income)}\")\n",
        "print(f\"KAIGS: {len(kaigs_income)}\")"
      ],
      "metadata": {
        "colab": {
          "base_uri": "https://localhost:8080/"
        },
        "id": "5uD_586GOW6i",
        "outputId": "4b98140e-8fec-4ffe-fcde-4e500cdf390c"
      },
      "execution_count": null,
      "outputs": [
        {
          "output_type": "stream",
          "name": "stdout",
          "text": [
            "Sketch Sizes for Income>\n",
            "LV2SK: 55\n",
            "TUPSK: 55\n",
            "KAIGS: 5818\n"
          ]
        }
      ]
    },
    {
      "cell_type": "code",
      "source": [],
      "metadata": {
        "id": "9yMPAlyiOpNd"
      },
      "execution_count": null,
      "outputs": []
    }
  ]
}